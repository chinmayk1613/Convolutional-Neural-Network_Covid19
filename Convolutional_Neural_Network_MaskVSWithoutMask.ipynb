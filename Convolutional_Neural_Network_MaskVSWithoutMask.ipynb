{
 "cells": [
  {
   "cell_type": "code",
   "execution_count": 10,
   "metadata": {},
   "outputs": [
    {
     "name": "stdout",
     "output_type": "stream",
     "text": [
      "Found 6000 images belonging to 2 classes.\n",
      "Found 1553 images belonging to 2 classes.\n",
      "WARNING:tensorflow:From C:\\Users\\cskck\\anaconda3\\lib\\site-packages\\tensorflow\\python\\ops\\resource_variable_ops.py:435: colocate_with (from tensorflow.python.framework.ops) is deprecated and will be removed in a future version.\n",
      "Instructions for updating:\n",
      "Colocations handled automatically by placer.\n"
     ]
    },
    {
     "name": "stderr",
     "output_type": "stream",
     "text": [
      "Exception ignored in: <function BaseSession._Callable.__del__ at 0x000001CF413AC3A8>\n",
      "Traceback (most recent call last):\n",
      "  File \"C:\\Users\\cskck\\anaconda3\\lib\\site-packages\\tensorflow\\python\\client\\session.py\", line 1455, in __del__\n",
      "    self._session._session, self._handle, status)\n",
      "  File \"C:\\Users\\cskck\\anaconda3\\lib\\site-packages\\tensorflow\\python\\framework\\errors_impl.py\", line 528, in __exit__\n",
      "    c_api.TF_GetCode(self.status.status))\n",
      "tensorflow.python.framework.errors_impl.InvalidArgumentError: No such callable handle: 1989548655856\n"
     ]
    },
    {
     "name": "stdout",
     "output_type": "stream",
     "text": [
      "WARNING:tensorflow:From C:\\Users\\cskck\\anaconda3\\lib\\site-packages\\tensorflow\\python\\ops\\math_ops.py:3066: to_int32 (from tensorflow.python.ops.math_ops) is deprecated and will be removed in a future version.\n",
      "Instructions for updating:\n",
      "Use tf.cast instead.\n",
      "Epoch 1/25\n",
      " 6/49 [==>...........................] - ETA: 11s - loss: 0.3905 - acc: 0.8229"
     ]
    },
    {
     "name": "stderr",
     "output_type": "stream",
     "text": [
      "C:\\Users\\cskck\\anaconda3\\lib\\site-packages\\PIL\\Image.py:932: UserWarning: Palette images with Transparency expressed in bytes should be converted to RGBA images\n",
      "  \"Palette images with Transparency expressed in bytes should be \"\n"
     ]
    },
    {
     "name": "stdout",
     "output_type": "stream",
     "text": [
      "49/49 [==============================] - 12s 249ms/step - loss: 0.3796 - acc: 0.8352\n",
      "188/188 [==============================] - 46s 243ms/step - loss: 0.3653 - acc: 0.8385 - val_loss: 0.3796 - val_acc: 0.8352\n",
      "Epoch 2/25\n",
      "49/49 [==============================] - 12s 236ms/step - loss: 0.2885 - acc: 0.8731\n",
      "188/188 [==============================] - 47s 248ms/step - loss: 0.2457 - acc: 0.9070 - val_loss: 0.2885 - val_acc: 0.8731\n",
      "Epoch 3/25\n",
      "49/49 [==============================] - 15s 298ms/step - loss: 0.2876 - acc: 0.8835\n",
      "188/188 [==============================] - 53s 284ms/step - loss: 0.2053 - acc: 0.9222 - val_loss: 0.2876 - val_acc: 0.8835\n",
      "Epoch 4/25\n",
      "49/49 [==============================] - 11s 229ms/step - loss: 0.3721 - acc: 0.8377\n",
      "188/188 [==============================] - 44s 237ms/step - loss: 0.1915 - acc: 0.9257 - val_loss: 0.3721 - val_acc: 0.8377\n",
      "Epoch 5/25\n",
      "49/49 [==============================] - 11s 227ms/step - loss: 0.2592 - acc: 0.8899\n",
      "188/188 [==============================] - 43s 228ms/step - loss: 0.1645 - acc: 0.9360 - val_loss: 0.2592 - val_acc: 0.8899\n",
      "Epoch 6/25\n",
      "49/49 [==============================] - 11s 228ms/step - loss: 0.2464 - acc: 0.8950\n",
      "188/188 [==============================] - 44s 233ms/step - loss: 0.1522 - acc: 0.9400 - val_loss: 0.2464 - val_acc: 0.8950\n",
      "Epoch 7/25\n",
      "49/49 [==============================] - 12s 236ms/step - loss: 0.3238 - acc: 0.8764\n",
      "188/188 [==============================] - 44s 233ms/step - loss: 0.1432 - acc: 0.9450 - val_loss: 0.3238 - val_acc: 0.8764\n",
      "Epoch 8/25\n",
      "49/49 [==============================] - 12s 245ms/step - loss: 0.4476 - acc: 0.7997\n",
      "188/188 [==============================] - 45s 237ms/step - loss: 0.1254 - acc: 0.9538 - val_loss: 0.4476 - val_acc: 0.7997\n",
      "Epoch 9/25\n",
      "49/49 [==============================] - 12s 242ms/step - loss: 0.2057 - acc: 0.9150\n",
      "188/188 [==============================] - 45s 238ms/step - loss: 0.1125 - acc: 0.9570 - val_loss: 0.2057 - val_acc: 0.9150\n",
      "Epoch 10/25\n",
      "49/49 [==============================] - 13s 264ms/step - loss: 0.2214 - acc: 0.9099\n",
      "188/188 [==============================] - 48s 257ms/step - loss: 0.1061 - acc: 0.9603 - val_loss: 0.2214 - val_acc: 0.9099\n",
      "Epoch 11/25\n",
      "49/49 [==============================] - 12s 238ms/step - loss: 0.3114 - acc: 0.8802\n",
      "188/188 [==============================] - 47s 250ms/step - loss: 0.0874 - acc: 0.9687 - val_loss: 0.3114 - val_acc: 0.8802\n",
      "Epoch 12/25\n",
      "49/49 [==============================] - 13s 262ms/step - loss: 0.2750 - acc: 0.8847\n",
      "188/188 [==============================] - 49s 262ms/step - loss: 0.0877 - acc: 0.9663 - val_loss: 0.2750 - val_acc: 0.8847\n",
      "Epoch 13/25\n",
      "49/49 [==============================] - 12s 246ms/step - loss: 0.2106 - acc: 0.9189\n",
      "188/188 [==============================] - 49s 260ms/step - loss: 0.0825 - acc: 0.9713 - val_loss: 0.2106 - val_acc: 0.9189\n",
      "Epoch 14/25\n",
      "49/49 [==============================] - 12s 254ms/step - loss: 0.2620 - acc: 0.8912\n",
      "188/188 [==============================] - 44s 234ms/step - loss: 0.0738 - acc: 0.9735 - val_loss: 0.2620 - val_acc: 0.8912\n",
      "Epoch 15/25\n",
      "49/49 [==============================] - 12s 250ms/step - loss: 0.2265 - acc: 0.9105\n",
      "188/188 [==============================] - 49s 259ms/step - loss: 0.0709 - acc: 0.9760 - val_loss: 0.2265 - val_acc: 0.9105\n",
      "Epoch 16/25\n",
      "49/49 [==============================] - 12s 239ms/step - loss: 0.2392 - acc: 0.9111\n",
      "188/188 [==============================] - 46s 245ms/step - loss: 0.0604 - acc: 0.9790 - val_loss: 0.2392 - val_acc: 0.9111\n",
      "Epoch 17/25\n",
      "49/49 [==============================] - 13s 269ms/step - loss: 0.4744 - acc: 0.8661\n",
      "188/188 [==============================] - 49s 258ms/step - loss: 0.0544 - acc: 0.9797 - val_loss: 0.4744 - val_acc: 0.8661\n",
      "Epoch 18/25\n",
      "49/49 [==============================] - 12s 243ms/step - loss: 0.2262 - acc: 0.9214\n",
      "188/188 [==============================] - 45s 237ms/step - loss: 0.0517 - acc: 0.9810 - val_loss: 0.2262 - val_acc: 0.9214\n",
      "Epoch 19/25\n",
      "49/49 [==============================] - 12s 254ms/step - loss: 0.2720 - acc: 0.9028\n",
      "188/188 [==============================] - 49s 258ms/step - loss: 0.0437 - acc: 0.9867 - val_loss: 0.2720 - val_acc: 0.9028\n",
      "Epoch 20/25\n",
      "49/49 [==============================] - 15s 312ms/step - loss: 0.3346 - acc: 0.8938\n",
      "188/188 [==============================] - 50s 266ms/step - loss: 0.0478 - acc: 0.9835 - val_loss: 0.3346 - val_acc: 0.8938\n",
      "Epoch 21/25\n",
      "49/49 [==============================] - 14s 281ms/step - loss: 0.2069 - acc: 0.9298\n",
      "188/188 [==============================] - 52s 276ms/step - loss: 0.0468 - acc: 0.9822 - val_loss: 0.2069 - val_acc: 0.9298\n",
      "Epoch 22/25\n",
      "49/49 [==============================] - 11s 232ms/step - loss: 0.2789 - acc: 0.9099\n",
      "188/188 [==============================] - 45s 240ms/step - loss: 0.0390 - acc: 0.9868 - val_loss: 0.2789 - val_acc: 0.9099\n",
      "Epoch 23/25\n",
      "49/49 [==============================] - 12s 237ms/step - loss: 0.4600 - acc: 0.8770\n",
      "188/188 [==============================] - 44s 235ms/step - loss: 0.0423 - acc: 0.9832 - val_loss: 0.4600 - val_acc: 0.8770\n",
      "Epoch 24/25\n",
      "49/49 [==============================] - 13s 266ms/step - loss: 0.3289 - acc: 0.8957\n",
      "188/188 [==============================] - 46s 244ms/step - loss: 0.0330 - acc: 0.9887 - val_loss: 0.3289 - val_acc: 0.8957\n",
      "Epoch 25/25\n",
      "49/49 [==============================] - 13s 267ms/step - loss: 0.2869 - acc: 0.9137\n",
      "188/188 [==============================] - 47s 249ms/step - loss: 0.0301 - acc: 0.9900 - val_loss: 0.2869 - val_acc: 0.9137\n"
     ]
    }
   ],
   "source": [
    "import numpy as np\n",
    "import  tensorflow as tf\n",
    "import pandas as pd\n",
    "from keras.preprocessing.image import ImageDataGenerator\n",
    "cnn=tf.keras.models.Sequential()\n",
    "\n",
    "def training():\n",
    "        ##### Data Prerpcessing #####\n",
    "\n",
    "        #Preprocessing the Train set#\n",
    "        #Transformation of the images not to overlearn\n",
    "        train_datagen = ImageDataGenerator(\n",
    "                rescale=1. / 255,\n",
    "                shear_range=0.2,\n",
    "                zoom_range=0.2,\n",
    "                horizontal_flip=True)\n",
    "        training_set = train_datagen.flow_from_directory(\n",
    "                'datasetCovid/training_set',\n",
    "                target_size=(64, 64),\n",
    "                batch_size=32,\n",
    "                class_mode='binary')\n",
    "\n",
    "        #Preprocessing the Test Set\n",
    "        test_datagen = ImageDataGenerator(rescale=1./255)\n",
    "        test_set = test_datagen.flow_from_directory(\n",
    "                'datasetCovid/test_set',\n",
    "                target_size=(64, 64),\n",
    "                batch_size=32,\n",
    "                class_mode='binary')\n",
    "\n",
    "\n",
    "        ##### Bulding the CNN #####\n",
    "\n",
    "        #Initialising the CNN\n",
    "\n",
    "\n",
    "        #Convolution LAYER\n",
    "        cnn.add(tf.keras.layers.Conv2D(filters=32, kernel_size=3, activation='relu', input_shape=[64, 64, 3])) #1\n",
    "\n",
    "        #Pooling LAYER\n",
    "        cnn.add(tf.keras.layers.MaxPool2D(pool_size=2, strides=2)) #2\n",
    "\n",
    "        #Adding second Convolutional Layer\n",
    "        cnn.add(tf.keras.layers.Conv2D(filters=32, kernel_size=3, activation='relu')) #2\n",
    "        cnn.add(tf.keras.layers.MaxPool2D(pool_size=2, strides=2)) #2\n",
    "\n",
    "        #Falttening\n",
    "        cnn.add(tf.keras.layers.Flatten())\n",
    "\n",
    "        #Full Connection\n",
    "        cnn.add(tf.keras.layers.Dense(units=128, activation='relu'))\n",
    "\n",
    "        #Output Layer\n",
    "        cnn.add(tf.keras.layers.Dense(units=1, activation='sigmoid'))\n",
    "\n",
    "        ##### Training The CNN #####\n",
    "\n",
    "        #Compiling the CNN\n",
    "        cnn.compile(optimizer='adam', loss='binary_crossentropy', metrics=['accuracy'])\n",
    "\n",
    "        #Training the CNN on the Training set and evaluating it on Test set\n",
    "        cnn.fit(x=training_set, validation_data=test_set, epochs=25)\n",
    "training()"
   ]
  },
  {
   "cell_type": "code",
   "execution_count": 27,
   "metadata": {},
   "outputs": [],
   "source": [
    "##### Making the Single Prediction #####\n",
    "def prediction():\n",
    "    from keras.preprocessing import  image\n",
    "    test_image = image.load_img('dataset/single_prediction/withorwithout4.jpg', target_size=(64, 64))\n",
    "    test_image = image.img_to_array(test_image)\n",
    "    test_image = np.expand_dims(test_image, axis = 0) #axis-> dimention of the image of batch will be added to first dimention.\n",
    "    result = cnn.predict(test_image)\n",
    "    #print(training_set.class_indices)\n",
    "    if result[0][0] == 1:     #[0][0]-> [0]first dimention is batch and [0]accessing the first and only element from that batch as that batch contain only one image.\n",
    "            prediction = 'Without Mask'\n",
    "    else:\n",
    "            prediction = 'With Mask'\n",
    "    print(prediction)"
   ]
  },
  {
   "cell_type": "code",
   "execution_count": 28,
   "metadata": {},
   "outputs": [
    {
     "name": "stdout",
     "output_type": "stream",
     "text": [
      "Without Mask\n"
     ]
    }
   ],
   "source": [
    "if __name__==\"__main__\":\n",
    "    prediction()"
   ]
  }
 ],
 "metadata": {
  "kernelspec": {
   "display_name": "Python 3",
   "language": "python",
   "name": "python3"
  },
  "language_info": {
   "codemirror_mode": {
    "name": "ipython",
    "version": 3
   },
   "file_extension": ".py",
   "mimetype": "text/x-python",
   "name": "python",
   "nbconvert_exporter": "python",
   "pygments_lexer": "ipython3",
   "version": "3.7.6"
  }
 },
 "nbformat": 4,
 "nbformat_minor": 4
}
